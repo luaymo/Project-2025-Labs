{
 "cells": [
  {
   "cell_type": "markdown",
   "id": "64d44da9-558f-4634-9de8-de0f46f93cfe",
   "metadata": {},
   "source": [
    "## Часть 1: Введение в Pandas\n",
    "\n",
    "Pandas - это библиотека Python для работы с данными. Она предоставляет мощные инструменты для анализа и манипуляции данными.\n",
    "\n",
    "### Установка Pandas\n",
    "\n",
    "Для начала убедитесь, что у вас установлена библиотека Pandas. Если ее нет, установите ее с помощью команды:\n"
   ]
  },
  {
   "cell_type": "code",
   "execution_count": 1,
   "id": "7484df51-b002-414c-ae42-75a2df57c78d",
   "metadata": {},
   "outputs": [
    {
     "name": "stdout",
     "output_type": "stream",
     "text": [
      "Requirement already satisfied: pandas in c:\\users\\l02ym\\appdata\\local\\programs\\python\\python312\\lib\\site-packages (2.2.3)\n",
      "Requirement already satisfied: numpy>=1.26.0 in c:\\users\\l02ym\\appdata\\local\\programs\\python\\python312\\lib\\site-packages (from pandas) (2.0.0)\n",
      "Requirement already satisfied: python-dateutil>=2.8.2 in c:\\users\\l02ym\\appdata\\roaming\\python\\python312\\site-packages (from pandas) (2.9.0.post0)\n",
      "Requirement already satisfied: pytz>=2020.1 in c:\\users\\l02ym\\appdata\\local\\programs\\python\\python312\\lib\\site-packages (from pandas) (2025.2)\n",
      "Requirement already satisfied: tzdata>=2022.7 in c:\\users\\l02ym\\appdata\\local\\programs\\python\\python312\\lib\\site-packages (from pandas) (2025.2)\n",
      "Requirement already satisfied: six>=1.5 in c:\\users\\l02ym\\appdata\\roaming\\python\\python312\\site-packages (from python-dateutil>=2.8.2->pandas) (1.17.0)\n"
     ]
    },
    {
     "name": "stderr",
     "output_type": "stream",
     "text": [
      "\n",
      "[notice] A new release of pip is available: 24.1.2 -> 25.0.1\n",
      "[notice] To update, run: python.exe -m pip install --upgrade pip\n"
     ]
    }
   ],
   "source": [
    "!pip install pandas\n"
   ]
  },
  {
   "cell_type": "markdown",
   "id": "4b655e29-c3a5-4117-9860-2d6b9af62ac1",
   "metadata": {},
   "source": [
    "## Импорт библиотеки\n",
    "Давайте начнем с импорта библиотеки Pandas:"
   ]
  },
  {
   "cell_type": "code",
   "execution_count": 4,
   "id": "bfc3346f-3843-4aff-aec0-54321b9774f0",
   "metadata": {
    "tags": []
   },
   "outputs": [],
   "source": [
    "import pandas as pd"
   ]
  },
  {
   "cell_type": "markdown",
   "id": "ea8530e9-c179-48c1-8043-ff87f415ee67",
   "metadata": {},
   "source": [
    "## Часть 2: Работа с данными\n",
    "### Чтение данных\n",
    "Мы будем использовать датасет Titanic. Давайте прочитаем данные из CSV файла."
   ]
  },
  {
   "cell_type": "code",
   "execution_count": 11,
   "id": "fa5deec6-c85e-4d88-89df-bea7d75fcbba",
   "metadata": {},
   "outputs": [
    {
     "name": "stdout",
     "output_type": "stream",
     "text": [
      "Requirement already satisfied: pandas in c:\\users\\l02ym\\appdata\\local\\programs\\python\\python312\\lib\\site-packages (2.2.3)\n",
      "Requirement already satisfied: numpy>=1.26.0 in c:\\users\\l02ym\\appdata\\local\\programs\\python\\python312\\lib\\site-packages (from pandas) (2.0.0)\n",
      "Requirement already satisfied: python-dateutil>=2.8.2 in c:\\users\\l02ym\\appdata\\roaming\\python\\python312\\site-packages (from pandas) (2.9.0.post0)\n",
      "Requirement already satisfied: pytz>=2020.1 in c:\\users\\l02ym\\appdata\\local\\programs\\python\\python312\\lib\\site-packages (from pandas) (2025.2)\n",
      "Requirement already satisfied: tzdata>=2022.7 in c:\\users\\l02ym\\appdata\\local\\programs\\python\\python312\\lib\\site-packages (from pandas) (2025.2)\n",
      "Requirement already satisfied: six>=1.5 in c:\\users\\l02ym\\appdata\\roaming\\python\\python312\\site-packages (from python-dateutil>=2.8.2->pandas) (1.17.0)\n",
      "🔹 Первые 5 строк:\n",
      "    PassengerId  Survived  Pclass                          Name     Sex   Age  \\\n",
      "0            1         0       3       Braund, Mr. Owen Harris    male  22.0   \n",
      "1            2         1       1    Cumings, Mrs. John Bradley  female  38.0   \n",
      "2            3         1       3        Heikkinen, Miss. Laina  female  26.0   \n",
      "3            4         1       1  Futrelle, Mrs. Jacques Heath  female  35.0   \n",
      "4            5         0       3      Allen, Mr. William Henry    male   NaN   \n",
      "\n",
      "   SibSp  Parch     Fare  \n",
      "0      1      0   7.2500  \n",
      "1      1      0  71.2833  \n",
      "2      0      0   7.9250  \n",
      "3      1      0  53.1000  \n",
      "4      0      0   8.0500  \n",
      "\n",
      "🔹 Информация о данных:\n",
      "<class 'pandas.core.frame.DataFrame'>\n",
      "RangeIndex: 5 entries, 0 to 4\n",
      "Data columns (total 9 columns):\n",
      " #   Column       Non-Null Count  Dtype  \n",
      "---  ------       --------------  -----  \n",
      " 0   PassengerId  5 non-null      int64  \n",
      " 1   Survived     5 non-null      int64  \n",
      " 2   Pclass       5 non-null      int64  \n",
      " 3   Name         5 non-null      object \n",
      " 4   Sex          5 non-null      object \n",
      " 5   Age          4 non-null      float64\n",
      " 6   SibSp        5 non-null      int64  \n",
      " 7   Parch        5 non-null      int64  \n",
      " 8   Fare         5 non-null      float64\n",
      "dtypes: float64(2), int64(5), object(2)\n",
      "memory usage: 492.0+ bytes\n",
      "None\n",
      "\n",
      "🔹 Пропущенные значения:\n",
      " PassengerId    0\n",
      "Survived       0\n",
      "Pclass         0\n",
      "Name           0\n",
      "Sex            0\n",
      "Age            1\n",
      "SibSp          0\n",
      "Parch          0\n",
      "Fare           0\n",
      "dtype: int64\n",
      "\n",
      "🔹 После fillna(0):\n",
      "    PassengerId  Survived  Pclass                          Name     Sex   Age  \\\n",
      "0            1         0       3       Braund, Mr. Owen Harris    male  22.0   \n",
      "1            2         1       1    Cumings, Mrs. John Bradley  female  38.0   \n",
      "2            3         1       3        Heikkinen, Miss. Laina  female  26.0   \n",
      "3            4         1       1  Futrelle, Mrs. Jacques Heath  female  35.0   \n",
      "4            5         0       3      Allen, Mr. William Henry    male   0.0   \n",
      "\n",
      "   SibSp  Parch     Fare  \n",
      "0      1      0   7.2500  \n",
      "1      1      0  71.2833  \n",
      "2      0      0   7.9250  \n",
      "3      1      0  53.1000  \n",
      "4      0      0   8.0500  \n",
      "\n",
      "🔹 После dropna():\n",
      "    PassengerId  Survived  Pclass                          Name     Sex   Age  \\\n",
      "0            1         0       3       Braund, Mr. Owen Harris    male  22.0   \n",
      "1            2         1       1    Cumings, Mrs. John Bradley  female  38.0   \n",
      "2            3         1       3        Heikkinen, Miss. Laina  female  26.0   \n",
      "3            4         1       1  Futrelle, Mrs. Jacques Heath  female  35.0   \n",
      "\n",
      "   SibSp  Parch     Fare  \n",
      "0      1      0   7.2500  \n",
      "1      1      0  71.2833  \n",
      "2      0      0   7.9250  \n",
      "3      1      0  53.1000  \n"
     ]
    },
    {
     "name": "stderr",
     "output_type": "stream",
     "text": [
      "\n",
      "[notice] A new release of pip is available: 24.1.2 -> 25.0.1\n",
      "[notice] To update, run: python.exe -m pip install --upgrade pip\n"
     ]
    }
   ],
   "source": [
    "# Установка и импорт\n",
    "!pip install pandas\n",
    "\n",
    "import pandas as pd\n",
    "\n",
    "# Создание тестового файла titanic.csv\n",
    "data = {\n",
    "    \"PassengerId\": [1, 2, 3, 4, 5],\n",
    "    \"Survived\": [0, 1, 1, 1, 0],\n",
    "    \"Pclass\": [3, 1, 3, 1, 3],\n",
    "    \"Name\": [\n",
    "        \"Braund, Mr. Owen Harris\",\n",
    "        \"Cumings, Mrs. John Bradley\",\n",
    "        \"Heikkinen, Miss. Laina\",\n",
    "        \"Futrelle, Mrs. Jacques Heath\",\n",
    "        \"Allen, Mr. William Henry\"\n",
    "    ],\n",
    "    \"Sex\": [\"male\", \"female\", \"female\", \"female\", \"male\"],\n",
    "    \"Age\": [22, 38, 26, 35, None],\n",
    "    \"SibSp\": [1, 1, 0, 1, 0],\n",
    "    \"Parch\": [0, 0, 0, 0, 0],\n",
    "    \"Fare\": [7.25, 71.2833, 7.925, 53.1, 8.05]\n",
    "}\n",
    "df = pd.DataFrame(data)\n",
    "df.to_csv(\"titanic.csv\", index=False)\n",
    "\n",
    "# Чтение и анализ\n",
    "df = pd.read_csv(\"titanic.csv\")\n",
    "print(\"🔹 Первые 5 строк:\\n\", df.head())\n",
    "print(\"\\n🔹 Информация о данных:\")\n",
    "print(df.info())\n",
    "print(\"\\n🔹 Пропущенные значения:\\n\", df.isna().sum())\n",
    "\n",
    "# Заполнение NaN и удаление\n",
    "df_filled = df.fillna(0)\n",
    "print(\"\\n🔹 После fillna(0):\\n\", df_filled)\n",
    "\n",
    "df_dropped = df.dropna()\n",
    "print(\"\\n🔹 После dropna():\\n\", df_dropped)\n"
   ]
  },
  {
   "cell_type": "markdown",
   "id": "07dfd488-4960-495e-80d8-9cf5903449b6",
   "metadata": {},
   "source": [
    "### Предпросмотр данных\n",
    "Для первого ознакомления с данными давайте выведем первые несколько строк."
   ]
  },
  {
   "cell_type": "code",
   "execution_count": 12,
   "id": "216e104c-259f-4ecd-9cd4-40362f61ca4e",
   "metadata": {},
   "outputs": [
    {
     "data": {
      "text/html": [
       "<div>\n",
       "<style scoped>\n",
       "    .dataframe tbody tr th:only-of-type {\n",
       "        vertical-align: middle;\n",
       "    }\n",
       "\n",
       "    .dataframe tbody tr th {\n",
       "        vertical-align: top;\n",
       "    }\n",
       "\n",
       "    .dataframe thead th {\n",
       "        text-align: right;\n",
       "    }\n",
       "</style>\n",
       "<table border=\"1\" class=\"dataframe\">\n",
       "  <thead>\n",
       "    <tr style=\"text-align: right;\">\n",
       "      <th></th>\n",
       "      <th>PassengerId</th>\n",
       "      <th>Survived</th>\n",
       "      <th>Pclass</th>\n",
       "      <th>Name</th>\n",
       "      <th>Sex</th>\n",
       "      <th>Age</th>\n",
       "      <th>SibSp</th>\n",
       "      <th>Parch</th>\n",
       "      <th>Fare</th>\n",
       "    </tr>\n",
       "  </thead>\n",
       "  <tbody>\n",
       "    <tr>\n",
       "      <th>0</th>\n",
       "      <td>1</td>\n",
       "      <td>0</td>\n",
       "      <td>3</td>\n",
       "      <td>Braund, Mr. Owen Harris</td>\n",
       "      <td>male</td>\n",
       "      <td>22.0</td>\n",
       "      <td>1</td>\n",
       "      <td>0</td>\n",
       "      <td>7.2500</td>\n",
       "    </tr>\n",
       "    <tr>\n",
       "      <th>1</th>\n",
       "      <td>2</td>\n",
       "      <td>1</td>\n",
       "      <td>1</td>\n",
       "      <td>Cumings, Mrs. John Bradley</td>\n",
       "      <td>female</td>\n",
       "      <td>38.0</td>\n",
       "      <td>1</td>\n",
       "      <td>0</td>\n",
       "      <td>71.2833</td>\n",
       "    </tr>\n",
       "    <tr>\n",
       "      <th>2</th>\n",
       "      <td>3</td>\n",
       "      <td>1</td>\n",
       "      <td>3</td>\n",
       "      <td>Heikkinen, Miss. Laina</td>\n",
       "      <td>female</td>\n",
       "      <td>26.0</td>\n",
       "      <td>0</td>\n",
       "      <td>0</td>\n",
       "      <td>7.9250</td>\n",
       "    </tr>\n",
       "    <tr>\n",
       "      <th>3</th>\n",
       "      <td>4</td>\n",
       "      <td>1</td>\n",
       "      <td>1</td>\n",
       "      <td>Futrelle, Mrs. Jacques Heath</td>\n",
       "      <td>female</td>\n",
       "      <td>35.0</td>\n",
       "      <td>1</td>\n",
       "      <td>0</td>\n",
       "      <td>53.1000</td>\n",
       "    </tr>\n",
       "    <tr>\n",
       "      <th>4</th>\n",
       "      <td>5</td>\n",
       "      <td>0</td>\n",
       "      <td>3</td>\n",
       "      <td>Allen, Mr. William Henry</td>\n",
       "      <td>male</td>\n",
       "      <td>NaN</td>\n",
       "      <td>0</td>\n",
       "      <td>0</td>\n",
       "      <td>8.0500</td>\n",
       "    </tr>\n",
       "  </tbody>\n",
       "</table>\n",
       "</div>"
      ],
      "text/plain": [
       "   PassengerId  Survived  Pclass                          Name     Sex   Age  \\\n",
       "0            1         0       3       Braund, Mr. Owen Harris    male  22.0   \n",
       "1            2         1       1    Cumings, Mrs. John Bradley  female  38.0   \n",
       "2            3         1       3        Heikkinen, Miss. Laina  female  26.0   \n",
       "3            4         1       1  Futrelle, Mrs. Jacques Heath  female  35.0   \n",
       "4            5         0       3      Allen, Mr. William Henry    male   NaN   \n",
       "\n",
       "   SibSp  Parch     Fare  \n",
       "0      1      0   7.2500  \n",
       "1      1      0  71.2833  \n",
       "2      0      0   7.9250  \n",
       "3      1      0  53.1000  \n",
       "4      0      0   8.0500  "
      ]
     },
     "execution_count": 12,
     "metadata": {},
     "output_type": "execute_result"
    }
   ],
   "source": [
    "df.head()\n"
   ]
  },
  {
   "cell_type": "markdown",
   "id": "b7ba5f57-07e1-4c0f-9b55-9d78638ee2cc",
   "metadata": {},
   "source": [
    "### Информация о данных\n",
    "Чтобы получить общую информацию о данных, воспользуйтесь методом .info()."
   ]
  },
  {
   "cell_type": "code",
   "execution_count": 13,
   "id": "43650b4f-f3e7-4480-b874-b5552f564383",
   "metadata": {},
   "outputs": [
    {
     "name": "stdout",
     "output_type": "stream",
     "text": [
      "<class 'pandas.core.frame.DataFrame'>\n",
      "RangeIndex: 5 entries, 0 to 4\n",
      "Data columns (total 9 columns):\n",
      " #   Column       Non-Null Count  Dtype  \n",
      "---  ------       --------------  -----  \n",
      " 0   PassengerId  5 non-null      int64  \n",
      " 1   Survived     5 non-null      int64  \n",
      " 2   Pclass       5 non-null      int64  \n",
      " 3   Name         5 non-null      object \n",
      " 4   Sex          5 non-null      object \n",
      " 5   Age          4 non-null      float64\n",
      " 6   SibSp        5 non-null      int64  \n",
      " 7   Parch        5 non-null      int64  \n",
      " 8   Fare         5 non-null      float64\n",
      "dtypes: float64(2), int64(5), object(2)\n",
      "memory usage: 492.0+ bytes\n"
     ]
    }
   ],
   "source": [
    "df.info()\n"
   ]
  },
  {
   "cell_type": "markdown",
   "id": "a6857118-a82e-4586-a933-4eb0df9cb74e",
   "metadata": {},
   "source": [
    "### Работа с NaN\n",
    "Часто данные содержат пропущенные значения, которые представляются как NaN (Not a Number). Pandas предоставляет удобные методы для работы с ними.\n",
    "\n",
    "Проверка на наличие NaN. Методы fillna и dropna возвращают новые Dataframe, проверьте нет ли в них NaN"
   ]
  },
  {
   "cell_type": "code",
   "execution_count": 15,
   "id": "f7910fde-24f7-4cf8-991d-01f08bc45b63",
   "metadata": {
    "tags": []
   },
   "outputs": [
    {
     "data": {
      "text/plain": [
       "PassengerId    0\n",
       "Survived       0\n",
       "Pclass         0\n",
       "Name           0\n",
       "Sex            0\n",
       "Age            1\n",
       "SibSp          0\n",
       "Parch          0\n",
       "Fare           0\n",
       "dtype: int64"
      ]
     },
     "execution_count": 15,
     "metadata": {},
     "output_type": "execute_result"
    }
   ],
   "source": [
    "df.isna().sum()"
   ]
  },
  {
   "cell_type": "markdown",
   "id": "1dadeaf7-e214-4552-b054-8e4a03714f72",
   "metadata": {},
   "source": [
    "Заполнение NaN"
   ]
  },
  {
   "cell_type": "code",
   "execution_count": 16,
   "id": "7d901187-75a9-497e-8774-6e0dde584197",
   "metadata": {},
   "outputs": [],
   "source": [
    "df_filled = df.fillna(0)"
   ]
  },
  {
   "cell_type": "markdown",
   "id": "6f32fddb-ec60-456b-8958-5c81b0357d49",
   "metadata": {},
   "source": [
    "Удаление строк с NaN"
   ]
  },
  {
   "cell_type": "code",
   "execution_count": 17,
   "id": "4d188deb-0818-4b01-b3a5-9d20d2166d10",
   "metadata": {
    "tags": []
   },
   "outputs": [],
   "source": [
    "df_dropped = df.dropna()"
   ]
  },
  {
   "cell_type": "markdown",
   "id": "7a4ff131-1593-4cd2-b2bc-e0ddb2442d3b",
   "metadata": {},
   "source": [
    "## Часть 3: Обработка DataFrame\n",
    "### Выбор данных\n",
    "Pandas позволяет выбирать данные по индексам, меткам столбцов и условиям."
   ]
  },
  {
   "cell_type": "code",
   "execution_count": 18,
   "id": "d11f6114-ce4b-4e71-afec-adf1d8c1ec6e",
   "metadata": {
    "tags": []
   },
   "outputs": [
    {
     "name": "stdout",
     "output_type": "stream",
     "text": [
      "🔹 DataFrame после fillna(0):\n",
      "   PassengerId  Survived  Pclass                          Name     Sex   Age  \\\n",
      "0            1         0       3       Braund, Mr. Owen Harris    male  22.0   \n",
      "1            2         1       1    Cumings, Mrs. John Bradley  female  38.0   \n",
      "2            3         1       3        Heikkinen, Miss. Laina  female  26.0   \n",
      "3            4         1       1  Futrelle, Mrs. Jacques Heath  female  35.0   \n",
      "4            5         0       3      Allen, Mr. William Henry    male   0.0   \n",
      "\n",
      "   SibSp  Parch     Fare  \n",
      "0      1      0   7.2500  \n",
      "1      1      0  71.2833  \n",
      "2      0      0   7.9250  \n",
      "3      1      0  53.1000  \n",
      "4      0      0   8.0500  \n",
      "\n",
      "🔹 DataFrame после dropna():\n",
      "   PassengerId  Survived  Pclass                          Name     Sex   Age  \\\n",
      "0            1         0       3       Braund, Mr. Owen Harris    male  22.0   \n",
      "1            2         1       1    Cumings, Mrs. John Bradley  female  38.0   \n",
      "2            3         1       3        Heikkinen, Miss. Laina  female  26.0   \n",
      "3            4         1       1  Futrelle, Mrs. Jacques Heath  female  35.0   \n",
      "\n",
      "   SibSp  Parch     Fare  \n",
      "0      1      0   7.2500  \n",
      "1      1      0  71.2833  \n",
      "2      0      0   7.9250  \n",
      "3      1      0  53.1000  \n"
     ]
    }
   ],
   "source": [
    "# Заполнение всех NaN значением 0\n",
    "df_filled = df.fillna(0)\n",
    "print(\"🔹 DataFrame после fillna(0):\")\n",
    "print(df_filled)\n",
    "\n",
    "# Удаление всех строк с NaN\n",
    "df_dropped = df.dropna()\n",
    "print(\"\\n🔹 DataFrame после dropna():\")\n",
    "print(df_dropped)\n"
   ]
  },
  {
   "cell_type": "markdown",
   "id": "f3102de8-d2fd-4593-bf26-721316ae51e9",
   "metadata": {},
   "source": [
    "### Сортировка данных\n",
    "Сортировка данных по значениям столбцов."
   ]
  },
  {
   "cell_type": "code",
   "execution_count": 19,
   "id": "de5e850c-e920-4ae4-aadb-3f1953438b09",
   "metadata": {
    "tags": []
   },
   "outputs": [
    {
     "name": "stdout",
     "output_type": "stream",
     "text": [
      "   PassengerId  Survived  Pclass                          Name     Sex   Age  \\\n",
      "0            1         0       3       Braund, Mr. Owen Harris    male  22.0   \n",
      "2            3         1       3        Heikkinen, Miss. Laina  female  26.0   \n",
      "3            4         1       1  Futrelle, Mrs. Jacques Heath  female  35.0   \n",
      "1            2         1       1    Cumings, Mrs. John Bradley  female  38.0   \n",
      "4            5         0       3      Allen, Mr. William Henry    male   NaN   \n",
      "\n",
      "   SibSp  Parch     Fare  \n",
      "0      1      0   7.2500  \n",
      "2      0      0   7.9250  \n",
      "3      1      0  53.1000  \n",
      "1      1      0  71.2833  \n",
      "4      0      0   8.0500  \n"
     ]
    }
   ],
   "source": [
    "# Сортировка данных по столбцу 'Age' по возрастанию\n",
    "sorted_df = df.sort_values(by='Age')\n",
    "print(sorted_df)"
   ]
  },
  {
   "cell_type": "markdown",
   "id": "eab3cd85-5e96-4228-8834-9ef53b93689a",
   "metadata": {},
   "source": [
    "### Группировка данных\n",
    "Pandas также позволяет группировать данные и выполнять агрегирующие операции."
   ]
  },
  {
   "cell_type": "code",
   "execution_count": 20,
   "id": "25ced901-0482-49a8-8c12-d192e84e3fb3",
   "metadata": {
    "tags": []
   },
   "outputs": [
    {
     "name": "stdout",
     "output_type": "stream",
     "text": [
      "Pclass\n",
      "1    1.000000\n",
      "3    0.333333\n",
      "Name: Survived, dtype: float64\n"
     ]
    }
   ],
   "source": [
    "# Группировка по Pclass и вычисление доли выживших\n",
    "survival_rate = df.groupby('Pclass')['Survived'].mean()\n",
    "print(survival_rate)"
   ]
  },
  {
   "cell_type": "markdown",
   "id": "d0355db7-7bf9-46d1-ad51-5f2eddc42501",
   "metadata": {},
   "source": [
    "## Часть 4: Задания для практики\n",
    "Прочитайте данные из файла 'titanic.csv'.\n",
    "Проверьте, есть ли пропущенные значения в данных и заполните их нулями.\n",
    "Выведите первые 10 строк данных.\n",
    "Выберите только те строки, где значение в столбце 'Age' больше 30.\n",
    "Отсортируйте данные по столбцу 'Fare' в порядке убывания.\n",
    "Сгруппируйте данные по столбцу 'Pclass' и вычислите средний возраст ('Age') для каждого класса."
   ]
  },
  {
   "cell_type": "code",
   "execution_count": 23,
   "id": "a1b4deaa-cd06-41b3-8084-5c2d3a867811",
   "metadata": {},
   "outputs": [
    {
     "name": "stdout",
     "output_type": "stream",
     "text": [
      "File 'titanic.csv' created successfully.\n"
     ]
    }
   ],
   "source": [
    "import pandas as pd\n",
    "\n",
    "# Sample Titanic-like data\n",
    "data = {\n",
    "    \"PassengerId\": [1, 2, 3, 4, 5],\n",
    "    \"Survived\": [0, 1, 1, 1, 0],\n",
    "    \"Pclass\": [3, 1, 3, 1, 3],\n",
    "    \"Name\": [\n",
    "        \"Braund, Mr. Owen Harris\",\n",
    "        \"Cumings, Mrs. John Bradley\",\n",
    "        \"Heikkinen, Miss. Laina\",\n",
    "        \"Futrelle, Mrs. Jacques Heath\",\n",
    "        \"Allen, Mr. William Henry\"\n",
    "    ],\n",
    "    \"Sex\": [\"male\", \"female\", \"female\", \"female\", \"male\"],\n",
    "    \"Age\": [22, 38, 26, 35, None],\n",
    "    \"SibSp\": [1, 1, 0, 1, 0],\n",
    "    \"Parch\": [0, 0, 0, 0, 0],\n",
    "    \"Fare\": [7.25, 71.2833, 7.925, 53.1, 8.05]\n",
    "}\n",
    "\n",
    "# Create DataFrame and save it as titanic.csv\n",
    "df = pd.DataFrame(data)\n",
    "df.to_csv(\"titanic.csv\", index=False)\n",
    "\n",
    "print(\"File 'titanic.csv' created successfully.\")\n"
   ]
  }
 ],
 "metadata": {
  "kernelspec": {
   "display_name": "Python 3",
   "language": "python",
   "name": "python3"
  },
  "language_info": {
   "codemirror_mode": {
    "name": "ipython",
    "version": 3
   },
   "file_extension": ".py",
   "mimetype": "text/x-python",
   "name": "python",
   "nbconvert_exporter": "python",
   "pygments_lexer": "ipython3",
   "version": "3.12.4"
  }
 },
 "nbformat": 4,
 "nbformat_minor": 5
}
